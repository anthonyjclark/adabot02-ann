{
 "cells": [
  {
   "cell_type": "code",
   "execution_count": 2,
   "metadata": {},
   "outputs": [],
   "source": [
    "%matplotlib inline\n",
    "\n",
    "# Bokeh for interactive, Seaborn for static\n",
    "\n",
    "import pandas as pd\n",
    "import numpy as np\n",
    "import seaborn as sns\n",
    "import matplotlib.pyplot as plt\n",
    "import matplotlib\n",
    "\n",
    "sns.set(style=\"whitegrid\", palette=\"pastel\")\n",
    "# sns.set(style=\"whitegrid\", palette=sns.color_palette(\"RdBu\", n_colors=2))\n",
    "\n",
    "plt.rc('text', usetex=True)\n",
    "plt.rc('font', family='serif')\n",
    "\n",
    "from math import pi\n",
    "import glob"
   ]
  },
  {
   "cell_type": "code",
   "execution_count": 3,
   "metadata": {},
   "outputs": [
    {
     "data": {
      "text/html": [
       "<div>\n",
       "<style scoped>\n",
       "    .dataframe tbody tr th:only-of-type {\n",
       "        vertical-align: middle;\n",
       "    }\n",
       "\n",
       "    .dataframe tbody tr th {\n",
       "        vertical-align: top;\n",
       "    }\n",
       "\n",
       "    .dataframe thead th {\n",
       "        text-align: right;\n",
       "    }\n",
       "</style>\n",
       "<table border=\"1\" class=\"dataframe\">\n",
       "  <thead>\n",
       "    <tr style=\"text-align: right;\">\n",
       "      <th></th>\n",
       "      <th>Angle</th>\n",
       "      <th>Angular Error</th>\n",
       "      <th>Linear Error</th>\n",
       "      <th>Left Speed</th>\n",
       "      <th>Right Speed</th>\n",
       "      <th>Extension</th>\n",
       "    </tr>\n",
       "  </thead>\n",
       "  <tbody>\n",
       "    <tr>\n",
       "      <th>count</th>\n",
       "      <td>1331.000000</td>\n",
       "      <td>1331.000000</td>\n",
       "      <td>1331.000000</td>\n",
       "      <td>1331.000000</td>\n",
       "      <td>1331.000000</td>\n",
       "      <td>1331.000000</td>\n",
       "    </tr>\n",
       "    <tr>\n",
       "      <th>mean</th>\n",
       "      <td>0.500000</td>\n",
       "      <td>0.500000</td>\n",
       "      <td>0.500000</td>\n",
       "      <td>0.556152</td>\n",
       "      <td>0.987301</td>\n",
       "      <td>0.950471</td>\n",
       "    </tr>\n",
       "    <tr>\n",
       "      <th>std</th>\n",
       "      <td>0.316347</td>\n",
       "      <td>0.316347</td>\n",
       "      <td>0.316347</td>\n",
       "      <td>0.297307</td>\n",
       "      <td>0.008206</td>\n",
       "      <td>0.075568</td>\n",
       "    </tr>\n",
       "    <tr>\n",
       "      <th>min</th>\n",
       "      <td>0.000000</td>\n",
       "      <td>0.000000</td>\n",
       "      <td>0.000000</td>\n",
       "      <td>0.021620</td>\n",
       "      <td>0.959414</td>\n",
       "      <td>0.441001</td>\n",
       "    </tr>\n",
       "    <tr>\n",
       "      <th>25%</th>\n",
       "      <td>0.200000</td>\n",
       "      <td>0.200000</td>\n",
       "      <td>0.200000</td>\n",
       "      <td>0.289057</td>\n",
       "      <td>0.982348</td>\n",
       "      <td>0.941654</td>\n",
       "    </tr>\n",
       "    <tr>\n",
       "      <th>50%</th>\n",
       "      <td>0.500000</td>\n",
       "      <td>0.500000</td>\n",
       "      <td>0.500000</td>\n",
       "      <td>0.587066</td>\n",
       "      <td>0.989666</td>\n",
       "      <td>0.981153</td>\n",
       "    </tr>\n",
       "    <tr>\n",
       "      <th>75%</th>\n",
       "      <td>0.800000</td>\n",
       "      <td>0.800000</td>\n",
       "      <td>0.800000</td>\n",
       "      <td>0.832531</td>\n",
       "      <td>0.993969</td>\n",
       "      <td>0.994081</td>\n",
       "    </tr>\n",
       "    <tr>\n",
       "      <th>max</th>\n",
       "      <td>1.000000</td>\n",
       "      <td>1.000000</td>\n",
       "      <td>1.000000</td>\n",
       "      <td>0.989186</td>\n",
       "      <td>0.997429</td>\n",
       "      <td>0.999709</td>\n",
       "    </tr>\n",
       "  </tbody>\n",
       "</table>\n",
       "</div>"
      ],
      "text/plain": [
       "             Angle  Angular Error  Linear Error   Left Speed  Right Speed  \\\n",
       "count  1331.000000    1331.000000   1331.000000  1331.000000  1331.000000   \n",
       "mean      0.500000       0.500000      0.500000     0.556152     0.987301   \n",
       "std       0.316347       0.316347      0.316347     0.297307     0.008206   \n",
       "min       0.000000       0.000000      0.000000     0.021620     0.959414   \n",
       "25%       0.200000       0.200000      0.200000     0.289057     0.982348   \n",
       "50%       0.500000       0.500000      0.500000     0.587066     0.989666   \n",
       "75%       0.800000       0.800000      0.800000     0.832531     0.993969   \n",
       "max       1.000000       1.000000      1.000000     0.989186     0.997429   \n",
       "\n",
       "         Extension  \n",
       "count  1331.000000  \n",
       "mean      0.950471  \n",
       "std       0.075568  \n",
       "min       0.441001  \n",
       "25%       0.941654  \n",
       "50%       0.981153  \n",
       "75%       0.994081  \n",
       "max       0.999709  "
      ]
     },
     "execution_count": 3,
     "metadata": {},
     "output_type": "execute_result"
    }
   ],
   "source": [
    "sweep_fullfile = '/Users/ajc/Documents/projects/adabot/adabot02-ann/src/extras/bnn/bin/bnn-40-2-best_3sweep.csv'\n",
    "df = pd.read_csv(sweep_fullfile)\n",
    "\n",
    "def range_transform(x, a, b, c, d):\n",
    "    return (x - a) * (d - c) / (b - a) + c\n",
    "\n",
    "\n",
    "# df['Angle'] = df['Angle'].apply(lambda x: range_transform(x, 0, 1, -np.pi, np.pi))\n",
    "\n",
    "# df['Left Speed'] = df['Left Speed'].apply(lambda x: range_transform(x, 0, 1, 20, -20))\n",
    "# df['Right Speed'] = df['Right Speed'].apply(lambda x: range_transform(x, 0, 1, 20, -20))\n",
    "\n",
    "df.describe()"
   ]
  },
  {
   "cell_type": "code",
   "execution_count": 4,
   "metadata": {},
   "outputs": [
    {
     "name": "stderr",
     "output_type": "stream",
     "text": [
      "/Users/ajc/miniconda3/envs/analyze/lib/python3.7/site-packages/matplotlib/figure.py:2267: UserWarning: This figure includes Axes that are not compatible with tight_layout, so results might be incorrect.\n",
      "  warnings.warn(\"This figure includes Axes that are not compatible \"\n",
      "/Users/ajc/miniconda3/envs/analyze/lib/python3.7/site-packages/matplotlib/figure.py:2267: UserWarning: This figure includes Axes that are not compatible with tight_layout, so results might be incorrect.\n",
      "  warnings.warn(\"This figure includes Axes that are not compatible \"\n",
      "/Users/ajc/miniconda3/envs/analyze/lib/python3.7/site-packages/matplotlib/figure.py:2267: UserWarning: This figure includes Axes that are not compatible with tight_layout, so results might be incorrect.\n",
      "  warnings.warn(\"This figure includes Axes that are not compatible \"\n"
     ]
    },
    {
     "data": {
      "image/png": "[encoded data removed]",
      "text/plain": [
       "<Figure size 576x576 with 10 Axes>"
      ]
     },
     "metadata": {},
     "output_type": "display_data"
    }
   ],
   "source": [
    "# https://github.com/mGalarnyk/Python_Tutorials/blob/master/\n",
    "# Request/Heat%20Maps%20using%20Matplotlib%20and%20Seaborn.ipynb\n",
    "\n",
    "\n",
    "\n",
    "# sns.palplot(sns.cubehelix_palette(8, start=1, rot=-0.75, dark=0.6))\n",
    "# color_map = sns.cubehelix_palette(8, start=1, rot=-0.75, dark=0.6)\n",
    "color_map = sns.color_palette('gray')\n",
    "\n",
    "value_labels = ['Left Speed', 'Right Speed', 'Extension']\n",
    "axes_labels = [\n",
    "    ['Angle', 'Angular Error'],\n",
    "    ['Angle', 'Linear Error'],\n",
    "    ['Angular Error', 'Linear Error']\n",
    "]\n",
    "fancy_labels = {\n",
    "    'Angle': r'$\\alpha_{\\mathit{target}}_e$',\n",
    "    'Angular Error': r'$\\omega_e$',\n",
    "    'Linear Error': r'$v_e$',\n",
    "}\n",
    "\n",
    "fsize = 16/2, 16/2\n",
    "fig, all_axes = plt.subplots(nrows=3, ncols=3, sharex='col', sharey='row', figsize=fsize)\n",
    "\n",
    "\n",
    "ax_num = 0\n",
    "cbar_ax = fig.add_axes([0.91, 0.3, 0.02, 0.4])\n",
    "for vl, axes in zip(value_labels, all_axes):\n",
    "#     fig, axes = plt.subplots(nrows=1, ncols=3, figsize=(3 * 3,4.5))\n",
    "    \n",
    "    for i, ax, al in zip(range(len(axes)), axes, axes_labels):\n",
    "\n",
    "        # Grab the needed columns\n",
    "        heat_data = df[al + [vl]]\n",
    "\n",
    "        # Group by x and y axes to setup pivot table\n",
    "        heat_data = heat_data.groupby(al)\n",
    "\n",
    "        # Take the mean of like indices (average out 3rd input)\n",
    "        heat_data = heat_data.mean().reset_index()\n",
    "\n",
    "        # Convert to a pivot table for a Seaborn heatmap\n",
    "        heat_data = heat_data.pivot(al[0], al[1], vl)\n",
    "\n",
    "        sns.heatmap(heat_data, vmin=0, vmax=1,\n",
    "                    ax=ax,\n",
    "                    xticklabels=5, yticklabels=5,\n",
    "                    square=True, cmap=color_map, linewidths=5,\n",
    "                    cbar=ax_num==0, cbar_ax=cbar_ax if i==0 else None);\n",
    "\n",
    "        ax.invert_yaxis()\n",
    "        \n",
    "        ax.yaxis.label.set_size(18)\n",
    "        ax.yaxis.label.set_text(fancy_labels[al[0]])\n",
    "\n",
    "        ax.xaxis.label.set_size(18)\n",
    "        ax.xaxis.label.set_text(fancy_labels[al[1]])\n",
    "        \n",
    "        ax.tick_params(labelsize=16)\n",
    "        \n",
    "        if (ax_num - 1) % 3 == 0:\n",
    "            ax.set_title(vl, fontsize=24)\n",
    "        ax_num += 1\n",
    "\n",
    "    fig.tight_layout(rect=[0, 0, 0.9, 1])"
   ]
  },
  {
   "cell_type": "code",
   "execution_count": 6,
   "metadata": {},
   "outputs": [
    {
     "name": "stderr",
     "output_type": "stream",
     "text": [
      "/Users/ajc/miniconda3/envs/analyze/lib/python3.7/site-packages/matplotlib/figure.py:2267: UserWarning: This figure includes Axes that are not compatible with tight_layout, so results might be incorrect.\n",
      "  warnings.warn(\"This figure includes Axes that are not compatible \"\n"
     ]
    },
    {
     "data": {
      "image/png": "[encoded data removed]",
      "text/plain": [
       "<Figure size 576x192 with 4 Axes>"
      ]
     },
     "metadata": {},
     "output_type": "display_data"
    }
   ],
   "source": [
    "# https://github.com/mGalarnyk/Python_Tutorials/blob/master/\n",
    "# Request/Heat%20Maps%20using%20Matplotlib%20and%20Seaborn.ipynb\n",
    "\n",
    "# color_map = sns.color_palette('gray')\n",
    "# color_map = sns.cubehelix_palette(8, start=1, rot=-0.75, dark=0.6)\n",
    "\n",
    "value_labels = ['Left Speed']\n",
    "axes_labels = [\n",
    "    ['Angle', 'Angular Error'],\n",
    "    ['Angle', 'Linear Error'],\n",
    "    ['Angular Error', 'Linear Error']\n",
    "]\n",
    "fancy_labels = {\n",
    "    'Angle': r'$\\alpha_{\\mathit{target}}_e$',\n",
    "    'Angular Error': r'$\\omega_e$',\n",
    "    'Linear Error': r'$v_e$',\n",
    "}\n",
    "\n",
    "fsize = 16/2, 16/2/3\n",
    "fig, all_axes = plt.subplots(nrows=1, ncols=3, sharex='col', sharey='row', figsize=fsize)\n",
    "\n",
    "\n",
    "ax_num = 0\n",
    "cbar_ax = fig.add_axes([0.91, 0.3, 0.02, 0.4])\n",
    "for vl, axes in zip(value_labels, all_axes):\n",
    "#     fig, axes = plt.subplots(nrows=1, ncols=3, figsize=(3 * 3,4.5))\n",
    "    \n",
    "    for i, ax, al in zip(range(len(all_axes)), all_axes, axes_labels):\n",
    "\n",
    "        # Grab the needed columns\n",
    "        heat_data = df[al + [vl]]\n",
    "\n",
    "        # Group by x and y axes to setup pivot table\n",
    "        heat_data = heat_data.groupby(al)\n",
    "\n",
    "        # Take the mean of like indices (average out 3rd input)\n",
    "        heat_data = heat_data.mean().reset_index()\n",
    "\n",
    "        # Convert to a pivot table for a Seaborn heatmap\n",
    "        heat_data = heat_data.pivot(al[0], al[1], vl)\n",
    "\n",
    "        sns.heatmap(heat_data, vmin=0, vmax=1,\n",
    "                    ax=ax,\n",
    "                    xticklabels=5, yticklabels=5,\n",
    "                    square=True, \n",
    "#                     cmap=color_map, \n",
    "                    linewidths=0,\n",
    "                    cbar=ax_num==0, cbar_ax=cbar_ax if i==0 else None);\n",
    "\n",
    "        ax.invert_yaxis()\n",
    "        \n",
    "        ax.yaxis.label.set_size(18)\n",
    "        ax.yaxis.label.set_text(fancy_labels[al[0]])\n",
    "\n",
    "        ax.xaxis.label.set_size(18)\n",
    "        ax.xaxis.label.set_text(fancy_labels[al[1]])\n",
    "        \n",
    "        ax.tick_params(labelsize=16)\n",
    "        \n",
    "        if (ax_num - 1) % 3 == 0:\n",
    "            ax.set_title(vl, fontsize=24)\n",
    "        ax_num += 1\n",
    "\n",
    "    fig.tight_layout(rect=[0, 0, 0.9, 1])"
   ]
  },
  {
   "cell_type": "code",
   "execution_count": 5,
   "metadata": {},
   "outputs": [],
   "source": [
    "fig.savefig('../paper/figures/4-results/ann_map.pdf')#, bbox_extra_artists=(lgd,), bbox_inches='tight')"
   ]
  },
  {
   "cell_type": "code",
   "execution_count": 6,
   "metadata": {},
   "outputs": [
    {
     "data": {
      "text/plain": [
       "<matplotlib.text.Text at 0x111084f98>"
      ]
     },
     "execution_count": 6,
     "metadata": {},
     "output_type": "execute_result"
    },
    {
     "data": {
      "image/png": "[encoded data removed]",
      "text/plain": [
       "<matplotlib.figure.Figure at 0x111bf1fd0>"
      ]
     },
     "metadata": {},
     "output_type": "display_data"
    }
   ],
   "source": [
    "g = sns.PairGrid(df, x_vars=df.columns[:3], y_vars=df.columns[3:])\n",
    "g = g.map(plt.scatter)\n",
    "\n",
    "speed_ticks = [-20, 0, 20]\n",
    "angle_ticks = [-np.pi, 0, np.pi]\n",
    "scale_ticks = [0, 0.5, 1]\n",
    "\n",
    "ax_ticks = [\n",
    "    {'x': angle_ticks, 'y': speed_ticks},\n",
    "    {'x': scale_ticks, 'y': speed_ticks},\n",
    "    {'x': scale_ticks, 'y': speed_ticks},\n",
    "\n",
    "    {'x': angle_ticks, 'y': speed_ticks},\n",
    "    {'x': scale_ticks, 'y': speed_ticks},\n",
    "    {'x': scale_ticks, 'y': speed_ticks},\n",
    "\n",
    "    {'x': angle_ticks, 'y': scale_ticks},\n",
    "    {'x': scale_ticks, 'y': scale_ticks},\n",
    "    {'x': scale_ticks, 'y': scale_ticks},\n",
    "]\n",
    "\n",
    "for ax, ticks in zip(g.axes.flat, ax_ticks):\n",
    "    ax.yaxis.label.set_size(18)\n",
    "    ax.xaxis.label.set_size(18)\n",
    "    ax.tick_params(labelsize=16)\n",
    "    \n",
    "    ax.xaxis.set_ticks(ticks['x'])\n",
    "    ax.set_xlim([ticks['x'][0], ticks['x'][2]])\n",
    "\n",
    "    ax.yaxis.set_ticks(ticks['y'])\n",
    "    ax.set_ylim([ticks['y'][0], ticks['y'][2]])\n",
    "        \n",
    "sns.despine(top=True, right=True, left=True, bottom=True);\n",
    "plt.suptitle('ANN Input vs Output', fontsize=24, y=1.05)"
   ]
  },
  {
   "cell_type": "code",
   "execution_count": null,
   "metadata": {},
   "outputs": [],
   "source": []
  },
  {
   "cell_type": "code",
   "execution_count": 7,
   "metadata": {},
   "outputs": [
    {
     "data": {
      "image/png": "[encoded data removed]",
      "text/plain": [
       "<matplotlib.figure.Figure at 0x111ca5080>"
      ]
     },
     "metadata": {},
     "output_type": "display_data"
    }
   ],
   "source": [
    "fsize = 16/2, 16/2\n",
    "fig, axes = plt.subplots(nrows=3, ncols=3, sharex=True, figsize=fsize)\n"
   ]
  },
  {
   "cell_type": "code",
   "execution_count": null,
   "metadata": {},
   "outputs": [],
   "source": []
  },
  {
   "cell_type": "code",
   "execution_count": null,
   "metadata": {
    "collapsed": true
   },
   "outputs": [],
   "source": []
  }
 ],
 "metadata": {
  "kernelspec": {
   "display_name": "Python 3",
   "language": "python",
   "name": "python3"
  },
  "language_info": {
   "codemirror_mode": {
    "name": "ipython",
    "version": 3
   },
   "file_extension": ".py",
   "mimetype": "text/x-python",
   "name": "python",
   "nbconvert_exporter": "python",
   "pygments_lexer": "ipython3",
   "version": "3.7.0"
  }
 },
 "nbformat": 4,
 "nbformat_minor": 2
}
