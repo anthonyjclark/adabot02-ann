{
 "cells": [
  {
   "cell_type": "code",
   "execution_count": 60,
   "metadata": {
    "collapsed": true
   },
   "outputs": [],
   "source": [
    "%matplotlib inline\n",
    "\n",
    "# Bokeh for interactive, Seaborn for static\n",
    "\n",
    "import pandas as pd\n",
    "import numpy as np\n",
    "import seaborn as sns\n",
    "import matplotlib.pyplot as plt\n",
    "import matplotlib\n",
    "\n",
    "sns.set(style=\"whitegrid\", palette=\"pastel\")\n",
    "# sns.set(style=\"whitegrid\", palette=sns.color_palette(\"RdBu\", n_colors=2))\n",
    "\n",
    "plt.rc('text', usetex=True)\n",
    "plt.rc('font', family='serif')\n",
    "\n",
    "from math import pi\n",
    "import glob\n",
    "\n"
   ]
  },
  {
   "cell_type": "code",
   "execution_count": 131,
   "metadata": {},
   "outputs": [],
   "source": [
    "def m_to_cm(x):\n",
    "    return x * 100\n",
    "def unit(x):\n",
    "    return x\n",
    "def scale_to_rads(x):\n",
    "    return 20 * x\n",
    "\n",
    "fsm_map = [\n",
    "    {'name': 'Wheel Base'        , 'default': 0.08, 'minval': 0.08, 'maxval': 0.16, 'T': m_to_cm},\n",
    "    {'name': 'Track Width'       , 'default': 0.12, 'minval': 0.08, 'maxval': 0.16, 'T': m_to_cm},\n",
    "    {'name': 'Wheel Radius'      , 'default': 0.02, 'minval': 0.02, 'maxval': 0.03, 'T': m_to_cm},\n",
    "    {'name': 'Weg Count'         , 'default': 3   , 'minval': 0   , 'maxval': 7.99, 'T': int  },\n",
    "    {'name': 'Ext. Slope'        , 'default': 0.5 , 'minval': 0   , 'maxval': 1   , 'T': unit},\n",
    "    {'name': 'Ext. Intercept'    , 'default': 0.5 , 'minval': 0   , 'maxval': 1   , 'T': unit},\n",
    "    {'name': 'F. Speed'          , 'default': 1   , 'minval': 0   , 'maxval': 1   , 'T': scale_to_rads},\n",
    "    {'name': 'F. Left Thresh'    , 'default': 0.17, 'minval': 0   , 'maxval': pi/2, 'T': np.rad2deg},\n",
    "    {'name': 'F. Right Thresh'   , 'default':-0.17, 'minval':-pi/2, 'maxval': 0   , 'T': np.rad2deg},\n",
    "    {'name': 'L. Speed Left'     , 'default':-1   , 'minval':-1   , 'maxval': 1   , 'T': scale_to_rads},\n",
    "    {'name': 'L. Speed Right'    , 'default': 1   , 'minval':-1   , 'maxval': 1   , 'T': scale_to_rads},\n",
    "    {'name': 'L. Forward Thresh' , 'default': 0.08, 'minval': 0   , 'maxval': pi/2, 'T': np.rad2deg},\n",
    "    {'name': 'R. Speed Left'     , 'default': 1   , 'minval':-1   , 'maxval': 1   , 'T': scale_to_rads},\n",
    "    {'name': 'R. Speed Right'    , 'default':-1   , 'minval':-1   , 'maxval': 1   , 'T': scale_to_rads},\n",
    "    {'name': 'R. Forward Thresh' , 'default':-0.08, 'minval':-pi/2, 'maxval': 0   , 'T': np.rad2deg},\n",
    "]\n",
    "\n",
    "bnn_map = [\n",
    "    {'name': 'Wheel Base'        , 'default': 0.08, 'minval': 0.08, 'maxval': 0.16, 'T': m_to_cm},\n",
    "    {'name': 'Track Width'       , 'default': 0.12, 'minval': 0.08, 'maxval': 0.16, 'T': m_to_cm},\n",
    "    {'name': 'Wheel Radius'      , 'default': 0.02, 'minval': 0.02, 'maxval': 0.03, 'T': m_to_cm},\n",
    "    {'name': 'Weg Count'         , 'default': 3   , 'minval': 0   , 'maxval': 7.99, 'T': int  },\n",
    "    {'name': 'Act. Func.'        , 'default': 0   , 'minval': 0   , 'maxval': 2.99, 'T': int  },\n",
    "]\n",
    "\n",
    "\n",
    "fsm_fancy_names = [\n",
    "    r'Wheel Base (cm)',\n",
    "    r'Track Width (cm)',\n",
    "    r'Wheel Radius (cm)',\n",
    "    r'Weg Count',\n",
    "    r'Ext. Slope ($\\%$)',\n",
    "    r'Ext. Intercept ($\\%$)',\n",
    "    r'F. Speed (rad $s^{-1}$)',\n",
    "    r'F. Left Thresh ($\\deg$)',\n",
    "    r'F. Right Thresh ($\\deg$)',\n",
    "    r'L. Speed Left (rad $s^{-1}$)',\n",
    "    r'L. Speed Right (rad $s^{-1}$)',\n",
    "    r'L. Forward Thresh ($\\deg$)',\n",
    "    r'R. Speed Left (rad $s^{-1}$)',\n",
    "    r'R. Speed Right (rad $s^{-1}$)',\n",
    "    r'R. Forward Thresh ($\\deg$)'\n",
    "]\n",
    "\n",
    "bnn_fancy_names = [\n",
    "    r'Wheel Base (cm)',\n",
    "    r'Track Width (cm)',\n",
    "    r'Wheel Radius (cm)',\n",
    "    r'Weg Count',\n",
    "    r'Act. Func.'\n",
    "]\n",
    "\n",
    "def range_transform(x, a, b, c, d):\n",
    "    return (x - a) * (d - c) / (b - a) + c"
   ]
  },
  {
   "cell_type": "code",
   "execution_count": 148,
   "metadata": {},
   "outputs": [
    {
     "name": "stdout",
     "output_type": "stream",
     "text": [
      "Found 20 data files in ../experiments/fsm/seed*/outcmaesxrecentbest.dat\n",
      "Found 19 data files in ../experiments/bnn/seed*/outcmaesxrecentbest.dat\n"
     ]
    }
   ],
   "source": [
    "fsm_param_files = '../experiments/fsm/seed*/outcmaesxrecentbest.dat'\n",
    "bnn_param_files = '../experiments/bnn/seed*/outcmaesxrecentbest.dat'\n",
    "\n",
    "cmaes_header = ['iter', 'evals', 'sigma', '0', 'fitness'] + [arg['name'] for arg in fsm_map]\n",
    "\n",
    "def get_data_from_file(glob_dir):\n",
    "    data = []\n",
    "    for pop_filepath in sorted(glob.iglob(glob_dir, recursive=True)):\n",
    "        data.append(pd.read_csv(pop_filepath, comment='%', header=None, names=cmaes_header, sep=' '))\n",
    "        for m in fsm_map:\n",
    "            data[-1][m['name']] = data[-1][m['name']].apply(\n",
    "                lambda x: m['T'](range_transform(x, 0, 10, m['minval'], m['maxval'])))\n",
    "    return data\n",
    "\n",
    "fsm_replicates = get_data_from_file(fsm_param_files)\n",
    "print('Found', len(fsm_replicates), 'data files in', fsm_param_files)\n",
    "\n",
    "bnn_replicates = get_data_from_file(bnn_param_files)\n",
    "print('Found', len(bnn_replicates), 'data files in', bnn_param_files)"
   ]
  },
  {
   "cell_type": "code",
   "execution_count": 178,
   "metadata": {
    "scrolled": true
   },
   "outputs": [],
   "source": [
    "fsm_replicates_combined = pd.concat(fsm_replicates).reset_index(drop=True)\n",
    "bnn_replicates_combined = pd.concat(bnn_replicates).reset_index(drop=True)"
   ]
  },
  {
   "cell_type": "code",
   "execution_count": 183,
   "metadata": {
    "collapsed": true
   },
   "outputs": [],
   "source": [
    "df_fsm_best = fsm_replicates_combined.nlargest(1000, 'fitness').copy()\n",
    "df_bnn_best = bnn_replicates_combined.nlargest(1000, 'fitness').copy()"
   ]
  },
  {
   "cell_type": "code",
   "execution_count": 189,
   "metadata": {},
   "outputs": [
    {
     "data": {
      "text/plain": [
       "<matplotlib.legend.Legend at 0x11b783a58>"
      ]
     },
     "execution_count": 189,
     "metadata": {},
     "output_type": "execute_result"
    },
    {
     "data": {
      "image/png": "[encoded data removed]",
      "text/plain": [
       "<matplotlib.figure.Figure at 0x11b67eda0>"
      ]
     },
     "metadata": {},
     "output_type": "display_data"
    }
   ],
   "source": [
    "# Physical Characteristics\n",
    "\n",
    "col_names = ['Wheel Base', 'Track Width', 'Wheel Radius', 'Weg Count']\n",
    "\n",
    "df_fsm_phys = df_fsm_best[col_names].copy()\n",
    "df_bnn_phys = df_bnn_best[col_names].copy()\n",
    "df_fsm_phys['Category'] = 'FSM'\n",
    "df_bnn_phys['Category'] = 'ANN'\n",
    "df = pd.concat([df_fsm_phys, df_bnn_phys], keys=['FSM', 'ANN'], axis=0)\n",
    "df['all'] = ''\n",
    "\n",
    "\n",
    "col_offset = 5\n",
    "col_count = 4\n",
    "col_names = df_fsm.columns[col_offset:col_offset + col_count]\n",
    "ncols = len(col_names)\n",
    "fsize = ncols * 3, 9/2\n",
    "fig, axes = plt.subplots(nrows=1, ncols=ncols, figsize=fsize)\n",
    "\n",
    "for col, col_name in enumerate(col_names):\n",
    "    m = fsm_map[col]\n",
    "    ymin, ymax = m['T'](m['minval']), m['T'](m['maxval'])\n",
    "    \n",
    "    # Plot the violin for this parameter\n",
    "#     sns.violinplot(df_fsm[col_name], ax=axes[col], orient='v')\n",
    "    sns.violinplot(x='all', y=col_name, hue='Category', data=df, ax=axes[col]\n",
    "                   , inner=None\n",
    "                   , split=True\n",
    "                   , scale_hue=False\n",
    "                   , scale='width'\n",
    "                  )\n",
    "\n",
    "    # Set the y limits with some padding\n",
    "    y_padding = (ymax - ymin) * 0.1\n",
    "    ylims_with_padding = [ymin - y_padding, ymax + y_padding]\n",
    "    axes[col].set_ylim(ylims_with_padding)\n",
    "    \n",
    "    # Prettify the lines and ticks\n",
    "    yticks = np.linspace(ymin, ymax, num=5)\n",
    "    axes[col].set_yticks(yticks)\n",
    "    axes[col].set_yticklabels([round(yval, 1) for yval in yticks], fontsize=14)\n",
    "    axes[col].set_xlabel(fsm_fancy_names[col], fontsize=18)\n",
    "    axes[col].set_ylabel('')\n",
    "    \n",
    "    axes[col].legend_.remove()\n",
    "    axes[col].plot([0, 0], ylims_with_padding, color='0.3', linestyle='-', linewidth=3)\n",
    "    \n",
    "sns.despine(top=True, right=True, left=True, bottom=True)\n",
    "plt.tight_layout()\n",
    "axes[-1].legend(loc=(1,0.5), fontsize=16)\n",
    "\n",
    "# fig.savefig('morph-params.png')\n",
    "# handles, labels = axes[-1].get_legend_handles_labels()\n",
    "# lgd = axes[-1].legend(handles, labels, loc=(1, 0.5), fontsize=16)#, bbox_to_anchor=(0.5,-0.1))\n",
    "\n",
    "# fig.savefig('params1.png', bbox_extra_artists=(lgd,), bbox_inches='tight')\n",
    "# fig.savefig('params2.png', bbox_extra_artists=(lgd,), bbox_inches='tight')\n"
   ]
  },
  {
   "cell_type": "code",
   "execution_count": null,
   "metadata": {},
   "outputs": [],
   "source": []
  },
  {
   "cell_type": "code",
   "execution_count": null,
   "metadata": {},
   "outputs": [],
   "source": []
  },
  {
   "cell_type": "code",
   "execution_count": null,
   "metadata": {
    "collapsed": true
   },
   "outputs": [],
   "source": []
  }
 ],
 "metadata": {
  "kernelspec": {
   "display_name": "Python 3",
   "language": "python",
   "name": "python3"
  },
  "language_info": {
   "codemirror_mode": {
    "name": "ipython",
    "version": 3
   },
   "file_extension": ".py",
   "mimetype": "text/x-python",
   "name": "python",
   "nbconvert_exporter": "python",
   "pygments_lexer": "ipython3",
   "version": "3.5.2"
  }
 },
 "nbformat": 4,
 "nbformat_minor": 2
}
